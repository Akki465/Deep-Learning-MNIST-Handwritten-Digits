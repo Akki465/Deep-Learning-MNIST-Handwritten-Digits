{
 "cells": [
  {
   "cell_type": "code",
   "execution_count": 1,
   "id": "b1d3720f-631f-4f8f-ba93-28b312834f2c",
   "metadata": {},
   "outputs": [],
   "source": [
    "import numpy as np\n",
    "import torch\n",
    "import torchvision\n",
    "import matplotlib.pyplot as plt\n",
    "\n",
    "from time import time\n",
    "from torchvision import datasets, transforms\n",
    "from torch import nn, optim"
   ]
  },
  {
   "cell_type": "code",
   "execution_count": 2,
   "id": "df9f4611-2581-4119-99de-cef8ba65940e",
   "metadata": {},
   "outputs": [],
   "source": [
    "transform = transforms.Compose([transforms.ToTensor(),\n",
    "                              transforms.Normalize((0.5,), (0.5,)),\n",
    "                              ])"
   ]
  },
  {
   "cell_type": "code",
   "execution_count": 3,
   "id": "1c019481-92eb-4c83-a1e4-306423ad1526",
   "metadata": {},
   "outputs": [],
   "source": [
    "#LOADING DATASET\n",
    "\n",
    "trainset = datasets.MNIST('PATH_TO_STORE_TRAINSET', download=True, train=True, transform=transform)\n",
    "testset = datasets.MNIST('PATH_TO_STORE_TESTSET', download=True, train=False, transform=transform)\n",
    "\n",
    "#SPLIT DATA 80-10-10 FOR TRAIN-VAL-TEST\n",
    "\n",
    "train_len = int(0.8 * len(trainset))\n",
    "val_len = len(trainset) - train_len\n",
    "test_len = len(testset)\n",
    "\n",
    "train_subset, val_subset = torch.utils.data.random_split(trainset, [train_len, val_len])\n",
    "\n",
    "trainloader = torch.utils.data.DataLoader(train_subset, batch_size=64, shuffle=True)\n",
    "valloader = torch.utils.data.DataLoader(val_subset, batch_size=64, shuffle=True)\n",
    "testloader = torch.utils.data.DataLoader(testset, batch_size=64, shuffle=True)"
   ]
  },
  {
   "cell_type": "code",
   "execution_count": 4,
   "id": "4e3b9d4f-023d-40bf-9227-8edc5907d5c9",
   "metadata": {},
   "outputs": [],
   "source": [
    "#DEFINE LAYER SIZES\n",
    "\n",
    "input_size = 28 * 28 #no. pixels per image\n",
    "hidden_layers_sizes = [128,64] #no. nodes per hidden layer \n",
    "output_size = 10 #no. classes (digits 0-9)\n",
    "\n",
    "#INITIALISE MODEL\n",
    "\n",
    "model = nn.Sequential(\n",
    "            nn.Linear(input_size, hidden_layers_sizes[0]),\n",
    "            nn.ReLU(),\n",
    "            nn.Linear(hidden_layers_sizes[0],hidden_layers_sizes[1]),\n",
    "            nn.ReLU(),\n",
    "            nn.Linear(hidden_layers_sizes[1], output_size),\n",
    "            nn.LogSoftmax(dim=1))"
   ]
  },
  {
   "cell_type": "code",
   "execution_count": null,
   "id": "35fc11b8-1516-441f-bb3d-380106459c63",
   "metadata": {},
   "outputs": [
    {
     "name": "stdout",
     "output_type": "stream",
     "text": [
      "Epoch 0:\n",
      "    Training loss: 0.7444738603035609\n",
      "    Validation loss: 0.35402245851273234\n",
      "Epoch 1:\n",
      "    Training loss: 0.3089312360684077\n",
      "    Validation loss: 0.28497549281158346\n",
      "Epoch 2:\n",
      "    Training loss: 0.24475898438692092\n",
      "    Validation loss: 0.23189711485533637\n",
      "Epoch 3:\n",
      "    Training loss: 0.19971585054695606\n",
      "    Validation loss: 0.2053742301154961\n",
      "Epoch 4:\n",
      "    Training loss: 0.16878293997297683\n",
      "    Validation loss: 0.18400157688859295\n",
      "Epoch 5:\n",
      "    Training loss: 0.14815485732754072\n",
      "    Validation loss: 0.15892102634732394\n",
      "Epoch 6:\n",
      "    Training loss: 0.12837944980710744\n",
      "    Validation loss: 0.1544312405538686\n",
      "Epoch 7:\n",
      "    Training loss: 0.11384527188539505\n",
      "    Validation loss: 0.1431423350871402\n",
      "Epoch 8:\n",
      "    Training loss: 0.10088696524004141\n",
      "    Validation loss: 0.12929746647305945\n",
      "Epoch 9:\n",
      "    Training loss: 0.09124627367034555\n",
      "    Validation loss: 0.12256024254267996\n"
     ]
    }
   ],
   "source": [
    "#TRAINING\n",
    "\n",
    "criterion = nn.NLLLoss() #Negative log likelihood loss \n",
    "optimizer = optim.SGD(model.parameters(), lr=0.003, momentum=0.9)\n",
    "\n",
    "max_epochs = 15 \n",
    "train_losses = []  #index is epoch no. - value is training loss on said epoch\n",
    "val_losses = [] #index is epoch no. - value is validation loss on said epoch \n",
    "best_model = None #save model with best/lowest val_loss\n",
    "best_epoch = 0 \n",
    "best_val_loss = float('inf') \n",
    "inc_patience = 2 #allow for a max of 2 increases in validation loss in a row\n",
    "loss_dec_threshhold = 0.03 #next line \n",
    "dec_patience = 2 #all for a max of 2 decreases under in validation loss in a row, which are under specified threshhold\n",
    "\n",
    "for epoch_no in range(max_epochs):\n",
    "    \n",
    "    training_current_loss = 0\n",
    "    for images,labels in trainloader:\n",
    "\n",
    "        #flatten image into long vector\n",
    "        images = images.view(images.shape[0], -1)\n",
    "\n",
    "        #clear old gradient \n",
    "        optimizer.zero_grad()\n",
    "        \n",
    "        logps = model(images)\n",
    "        loss = criterion(logps,labels)\n",
    "\n",
    "        #backpropagation\n",
    "        loss.backward()\n",
    "\n",
    "        #adjust weights\n",
    "        optimizer.step()\n",
    "\n",
    "        training_current_loss += loss.item()\n",
    "    train_losses.append(training_current_loss/len(trainloader))    #store training loss after each epoch\n",
    "\n",
    "    validation_current_loss = 0\n",
    "    for images,labels in valloader:\n",
    "        \n",
    "        images = images.view(images.shape[0], -1)\n",
    "\n",
    "        #no learning to be done here \n",
    "        \n",
    "        logps = model(images)\n",
    "        loss = criterion(logps,labels)\n",
    "        \n",
    "        validation_current_loss += loss.item() \n",
    "    val_losses.append(validation_current_loss/len(valloader))    #store validation loss after each epoch \n",
    "\n",
    "    print(\"Epoch {}:\".format(epoch_no))\n",
    "    print(\"    Training loss: {}\".format(training_current_loss / len(trainloader)))\n",
    "    print(\"    Validation loss: {}\".format(validation_current_loss/len(valloader)))\n",
    "\n",
    "\n",
    "    #save best model by comparing validation loss with current best \n",
    "    \n",
    "    if validation_current_loss < best_val_loss:                  \n",
    "        best_val_loss = validation_current_loss\n",
    "        best_epoch = epoch_no\n",
    "        best_model_state = {\n",
    "            'epoch': epoch_no,\n",
    "            'model_state_dict': model.state_dict(),\n",
    "            'optimizer_state_dict': optimizer.state_dict(),\n",
    "            'train_loss': training_current_loss,\n",
    "            'val_loss': validation_current_loss\n",
    "        }\n",
    "        torch.save(best_model_state, 'best_model.pth')\n",
    "        continue\n",
    "\n",
    "    #stop learning if validation loss increases too many times in a row \n",
    "\n",
    "    if (epoch_no > inc_patience +1) and (sum([1 if val_losses[epoch_no-i]>val_losses[epoch_no-i-1] else 0 \n",
    "                                              for i in range(inc_patience+1)]) > inc_patience):\n",
    "        break\n",
    "\n",
    "    #stop learning if decreases in validation loss are too small too many times in a row \n",
    "\n",
    "    if (epoch_no > dec_patience + 1) and (sum( [1 if val_losses[epoch_no-i] - val_losses[epoch_no-i-1] < loss_dec_threshhold else 0 \n",
    "                                                for i in range(dec_patience+1)]) > dec_patience):\n",
    "        break\n",
    "    \n",
    "    "
   ]
  },
  {
   "cell_type": "code",
   "execution_count": 6,
   "id": "9f06936d-3008-45a1-88b1-8fe84a1a2250",
   "metadata": {},
   "outputs": [
    {
     "data": {
      "image/png": "[encoded data removed]",
      "text/plain": [
       "<Figure size 640x480 with 1 Axes>"
      ]
     },
     "metadata": {},
     "output_type": "display_data"
    }
   ],
   "source": [
    "#DISPLAY TRAINING AND VALIDATION LOSS AT EACH EPOCH\n",
    "\n",
    "epochs = range(0, epoch_no+1)\n",
    "plt.plot(epochs, train_losses, label='Training Loss')\n",
    "plt.plot(epochs, val_losses, label='Validation Loss')\n",
    "plt.xlabel('Epochs')\n",
    "plt.ylabel('Loss')\n",
    "plt.title('Training and Validation Loss over Epochs')\n",
    "plt.legend()\n",
    "plt.show()"
   ]
  },
  {
   "cell_type": "code",
   "execution_count": 10,
   "id": "b0b9d230-0045-4287-98a5-b7e5bc0dd99e",
   "metadata": {},
   "outputs": [],
   "source": [
    "#FUNCTION SHOWING CLASS PROBABILITY GIVEN AN IMAGE (chance of each digit)\n",
    "\n",
    "def view_classify(img, ps):\n",
    "    \n",
    "    ps = ps.data.numpy().squeeze()\n",
    "\n",
    "    fig, (ax1, ax2) = plt.subplots(figsize=(6,9), ncols=2)\n",
    "    ax1.imshow(img.resize_(1, 28, 28).numpy().squeeze())\n",
    "    ax1.axis('off')\n",
    "    ax2.barh(np.arange(10), ps)\n",
    "    ax2.set_aspect(0.1)\n",
    "    ax2.set_yticks(np.arange(10))\n",
    "    ax2.set_yticklabels(np.arange(10))\n",
    "    ax2.set_title('Class Probability')\n",
    "    ax2.set_xlim(0, 1.1)\n",
    "    plt.tight_layout()"
   ]
  },
  {
   "cell_type": "code",
   "execution_count": 11,
   "id": "c34dfd5a-0ca4-4655-bb47-f9e446ce1a4b",
   "metadata": {},
   "outputs": [
    {
     "data": {
      "text/plain": [
       "Sequential(\n",
       "  (0): Linear(in_features=784, out_features=128, bias=True)\n",
       "  (1): ReLU()\n",
       "  (2): Linear(in_features=128, out_features=64, bias=True)\n",
       "  (3): ReLU()\n",
       "  (4): Linear(in_features=64, out_features=10, bias=True)\n",
       "  (5): LogSoftmax(dim=1)\n",
       ")"
      ]
     },
     "execution_count": 11,
     "metadata": {},
     "output_type": "execute_result"
    }
   ],
   "source": [
    "#LOAD BEST MODEL FOUND DURING TRAINING PROCESS\n",
    "\n",
    "checkpoint = torch.load('best_model.pth')\n",
    "\n",
    "model.load_state_dict(checkpoint['model_state_dict'])\n",
    "\n",
    "model.eval()"
   ]
  },
  {
   "cell_type": "code",
   "execution_count": 15,
   "id": "4e79e0a7-369d-42b1-a46b-f3979b1c0e36",
   "metadata": {},
   "outputs": [
    {
     "name": "stdout",
     "output_type": "stream",
     "text": [
      "Predicted Digit = 9\n"
     ]
    },
    {
     "data": {
      "image/png": "[encoded data removed]",
      "text/plain": [
       "<Figure size 600x900 with 2 Axes>"
      ]
     },
     "metadata": {},
     "output_type": "display_data"
    }
   ],
   "source": [
    "#EXAMPLE CASES OF MODEL-USE\n",
    "\n",
    "images, labels = next(iter(valloader))\n",
    "\n",
    "img = images[2].view(1, 784)\n",
    "# Turn off gradients to speed up\n",
    "with torch.no_grad():\n",
    "    logps = model(img)\n",
    "\n",
    "# Output of the network are log-probabilities, need to take exponential for probabilities\n",
    "ps = torch.exp(logps)\n",
    "probab = list(ps.numpy()[0])\n",
    "print(\"Predicted Digit =\", probab.index(max(probab)))\n",
    "view_classify(img.view(1, 28, 28), ps)"
   ]
  },
  {
   "cell_type": "code",
   "execution_count": 30,
   "id": "3f16a92c-73db-4b51-9307-f9e34f640bf6",
   "metadata": {},
   "outputs": [
    {
     "name": "stdout",
     "output_type": "stream",
     "text": [
      "Number Of Images Tested = 10000\n",
      "Model Accuracy = 0.9708\n"
     ]
    }
   ],
   "source": [
    "#EVALUATE USING TEST DATA\n",
    "\n",
    "correct = 0\n",
    "all = 0 \n",
    "\n",
    "for images,labels in testloader:\n",
    "  for i in range(len(labels)):\n",
    "    img = images[i].view(1, 784)\n",
    "      \n",
    "    # Turn off gradients to speed up this part\n",
    "    with torch.no_grad():\n",
    "        logps = model(img)\n",
    "\n",
    "    #Network output log-probabilities with LogSoftmax so exp back to standard probs\n",
    "    ps = torch.exp(logps)\n",
    "    probab = list(ps.numpy()[0])\n",
    "      \n",
    "    pred_label = probab.index(max(probab))\n",
    "    true_label = labels.numpy()[i]\n",
    "      \n",
    "    if(true_label == pred_label):\n",
    "      correct += 1\n",
    "    all += 1\n",
    "\n",
    "print(\"Number Of Images Tested =\", all)\n",
    "print(\"Model Accuracy =\", (correct/all))"
   ]
  },
  {
   "cell_type": "code",
   "execution_count": 16,
   "id": "d282e770-b344-4aca-ae2f-f2a8085df494",
   "metadata": {},
   "outputs": [
    {
     "name": "stdout",
     "output_type": "stream",
     "text": [
      "zsh:1: no matches found: nbconvert[webpdf]\n",
      "Note: you may need to restart the kernel to use updated packages.\n"
     ]
    }
   ],
   "source": [
    "\n"
   ]
  },
  {
   "cell_type": "code",
   "execution_count": null,
   "id": "e88bb8be-e2c8-4c07-8b38-df45c23d07c5",
   "metadata": {},
   "outputs": [],
   "source": []
  }
 ],
 "metadata": {
  "kernelspec": {
   "display_name": "Python 3 (ipykernel)",
   "language": "python",
   "name": "python3"
  },
  "language_info": {
   "codemirror_mode": {
    "name": "ipython",
    "version": 3
   },
   "file_extension": ".py",
   "mimetype": "text/x-python",
   "name": "python",
   "nbconvert_exporter": "python",
   "pygments_lexer": "ipython3",
   "version": "3.12.4"
  }
 },
 "nbformat": 4,
 "nbformat_minor": 5
}
